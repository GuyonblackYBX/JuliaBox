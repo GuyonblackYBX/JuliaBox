{
 "metadata": {
  "kernelspec": {
   "codemirror_mode": "julia",
   "display_name": "Julia",
   "language": "julia",
   "name": "julia"
  },
  "language": "Julia",
  "name": "",
  "signature": "sha256:557116bc0b17f3527da38cee357d7636d24555ac41082c241d78348dad7679ff"
 },
 "nbformat": 3,
 "nbformat_minor": 0,
 "worksheets": [
  {
   "cells": [
    {
     "cell_type": "heading",
     "level": 1,
     "metadata": {},
     "source": [
      "Julia Basics"
     ]
    },
    {
     "cell_type": "markdown",
     "metadata": {},
     "source": [
      "Julia is a dynamic language.  You don't need type declarations, and can change variable types dynamically and interactively.\n",
      "\n",
      "For working with simple numbers, arrays, and strings, its syntax is *superficially* similar to Matlab, Python, and other popular languages.\n",
      "\n",
      "In order to execute the \"In\" cells, select the cell and press Shift-Enter, or press the Play button above. To run the entire notebook, navigate to Cell and then click Run All."
     ]
    },
    {
     "cell_type": "code",
     "collapsed": false,
     "input": [
      "A = rand(10,300)"
     ],
     "language": "python",
     "metadata": {},
     "outputs": [
      {
       "metadata": {},
       "output_type": "pyout",
       "prompt_number": 1,
       "text": [
        "10x300 Array{Float64,2}:\n",
        " 0.783404  0.0311394  0.812383   0.477083   \u2026  0.721833   0.645198  0.0130317\n",
        " 0.193555  0.541845   0.649835   0.811171      0.760296   0.938457  0.922504 \n",
        " 0.908106  0.0943674  0.866333   0.598926      0.583402   0.260244  0.649957 \n",
        " 0.199998  0.239194   0.0179699  0.858827      0.426046   0.892983  0.464965 \n",
        " 0.59418   0.9386     0.197115   0.657886      0.779619   0.676137  0.311183 \n",
        " 0.735252  0.116943   0.946751   0.358868   \u2026  0.739255   0.69121   0.093698 \n",
        " 0.957677  0.503347   0.776807   0.0571926     0.0679571  0.238228  0.455053 \n",
        " 0.626905  0.0581834  0.715248   0.305108      0.393785   0.300025  0.973343 \n",
        " 0.985787  0.51222    0.418279   0.392521      0.18709    0.155121  0.166537 \n",
        " 0.77673   0.642202   0.937386   0.316258      0.424241   0.365623  0.0948854"
       ]
      }
     ],
     "prompt_number": 1
    },
    {
     "cell_type": "markdown",
     "metadata": {},
     "source": [
      "It has all of the usual built-in Matlab/Numpy-like linear-algebra and vector functions:"
     ]
    },
    {
     "cell_type": "code",
     "collapsed": false,
     "input": [
      "b = rand(10)\n",
      "x = A \\ b\n",
      "B = A' * A\n",
      "erf(eigvals(B)) - 2x.^2 + 4x - 6"
     ],
     "language": "python",
     "metadata": {},
     "outputs": [
      {
       "metadata": {},
       "output_type": "pyout",
       "prompt_number": 2,
       "text": [
        "300-element Array{Float64,1}:\n",
        " -5.97597\n",
        " -6.02707\n",
        " -5.96599\n",
        " -5.97673\n",
        " -6.0063 \n",
        " -5.99561\n",
        " -6.00291\n",
        " -5.96795\n",
        " -5.97906\n",
        " -5.97312\n",
        " -5.95324\n",
        " -6.01838\n",
        " -6.01266\n",
        "  \u22ee      \n",
        " -5.98276\n",
        " -6.03541\n",
        " -5.02017\n",
        " -4.98653\n",
        " -4.97553\n",
        " -4.99832\n",
        " -4.95152\n",
        " -5.00253\n",
        " -4.91143\n",
        " -5.00674\n",
        " -5.00801\n",
        " -4.9609 "
       ]
      }
     ],
     "prompt_number": 2
    },
    {
     "cell_type": "markdown",
     "metadata": {},
     "source": [
      "Complex numbers and arbitrary-precision arithmetic (via MPFR), of course."
     ]
    },
    {
     "cell_type": "code",
     "collapsed": false,
     "input": [
      "cos(big(3 + 4im))"
     ],
     "language": "python",
     "metadata": {},
     "outputs": [
      {
       "metadata": {},
       "output_type": "pyout",
       "prompt_number": 3,
       "text": [
        "-2.703494560307422464769480266827091348467753695567661661019265514673434246483996e+01 with 256 bits of precision - 3.851153334811777536563337123053124569704160846091637003157728595256494186490506e+00 with 256 bits of precisionim"
       ]
      }
     ],
     "prompt_number": 3
    },
    {
     "cell_type": "heading",
     "level": 2,
     "metadata": {},
     "source": [
      "Unicode"
     ]
    },
    {
     "cell_type": "markdown",
     "metadata": {},
     "source": [
      "All strings are UTF-8 encoded Unicode by default (UTF-16 and UTF-32 also supported):"
     ]
    },
    {
     "cell_type": "code",
     "collapsed": false,
     "input": [
      "matchall(r\"\\s[a-z]+\", \"\u03b1 is a Gr\u00eb\u00e9k letter\") # regex search of a Unicode string"
     ],
     "language": "python",
     "metadata": {},
     "outputs": [
      {
       "metadata": {},
       "output_type": "pyout",
       "prompt_number": 4,
       "text": [
        "3-element Array{SubString{UTF8String},1}:\n",
        " \" is\"    \n",
        " \" a\"     \n",
        " \" letter\""
       ]
      }
     ],
     "prompt_number": 4
    },
    {
     "cell_type": "markdown",
     "metadata": {},
     "source": [
      "Like Python 3, variable names can be Unicode, but Julia allows a somewhat wider range of codepoints in identifiers, which can be typed by LaTeX-like tab-completion *\\alpha[TAB]\\hat[TAB]\\_2[TAB]\\prime*."
     ]
    },
    {
     "cell_type": "code",
     "collapsed": false,
     "input": [
      "\u03b1\u0302\u2082\u2032 = 7\n",
      "\u0127 = 6.62606957e-34 / 2\u03c0\n",
      "\u1e8b = \u0127 * \u03b1\u0302\u2082\u2032"
     ],
     "language": "python",
     "metadata": {},
     "outputs": [
      {
       "metadata": {},
       "output_type": "pyout",
       "prompt_number": 5,
       "text": [
        "7.3820020773540256e-34"
       ]
      }
     ],
     "prompt_number": 5
    },
    {
     "cell_type": "markdown",
     "metadata": {},
     "source": [
      "Unlike Python 3, Unicode math operators are parsed as infix operators, which are available for user-defined meanings:"
     ]
    },
    {
     "cell_type": "code",
     "collapsed": false,
     "input": [
      "\u226a(x,y) = x < 0.1*y\n",
      "50 \u226a 100, 5 \u226a 100, 5 \u2264 50"
     ],
     "language": "python",
     "metadata": {},
     "outputs": [
      {
       "metadata": {},
       "output_type": "pyout",
       "prompt_number": 6,
       "text": [
        "(false,true,true)"
       ]
      }
     ],
     "prompt_number": 6
    },
    {
     "cell_type": "code",
     "collapsed": false,
     "input": [
      "const \u2297 = kron\n",
      "eye(2,2) \u2297 rand(2,2)"
     ],
     "language": "python",
     "metadata": {},
     "outputs": [
      {
       "metadata": {},
       "output_type": "pyout",
       "prompt_number": 7,
       "text": [
        "4x4 Array{Float64,2}:\n",
        " 0.423618  0.953065  0.0       0.0     \n",
        " 0.219228  0.448613  0.0       0.0     \n",
        " 0.0       0.0       0.423618  0.953065\n",
        " 0.0       0.0       0.219228  0.448613"
       ]
      }
     ],
     "prompt_number": 7
    },
    {
     "cell_type": "heading",
     "level": 2,
     "metadata": {},
     "source": [
      "Functions and JIT-compilation"
     ]
    },
    {
     "cell_type": "markdown",
     "metadata": {},
     "source": [
      "Functions can be defined in several ways, and *don't require type-declarations*."
     ]
    },
    {
     "cell_type": "code",
     "collapsed": false,
     "input": [
      "# verbose form:\n",
      "function foo(x)\n",
      "    return x + 1\n",
      "end\n",
      "\n",
      "# one-line form:\n",
      "foo(x) = x + 1\n",
      "\n",
      "# anonymous function\n",
      "x -> x + 1"
     ],
     "language": "python",
     "metadata": {},
     "outputs": [
      {
       "metadata": {},
       "output_type": "pyout",
       "prompt_number": 8,
       "text": [
        "(anonymous function)"
       ]
      }
     ],
     "prompt_number": 8
    },
    {
     "cell_type": "markdown",
     "metadata": {},
     "source": [
      "The *first time you call* a function with arguments of a particular type, Julia JIT-compiles that function *specialized for that type* with LLVM, which is then cached for subsequent calls for the *same types*."
     ]
    },
    {
     "cell_type": "code",
     "collapsed": false,
     "input": [
      "foo(3) # compiles foo for Int arguments"
     ],
     "language": "python",
     "metadata": {},
     "outputs": [
      {
       "metadata": {},
       "output_type": "pyout",
       "prompt_number": 9,
       "text": [
        "4"
       ]
      }
     ],
     "prompt_number": 9
    },
    {
     "cell_type": "code",
     "collapsed": false,
     "input": [
      "foo(7) # re-uses compiled foo(Int)"
     ],
     "language": "python",
     "metadata": {},
     "outputs": [
      {
       "metadata": {},
       "output_type": "pyout",
       "prompt_number": 10,
       "text": [
        "8"
       ]
      }
     ],
     "prompt_number": 10
    },
    {
     "cell_type": "code",
     "collapsed": false,
     "input": [
      "foo(7.3) # compiles a different version for Float64 arguments"
     ],
     "language": "python",
     "metadata": {},
     "outputs": [
      {
       "metadata": {},
       "output_type": "pyout",
       "prompt_number": 11,
       "text": [
        "8.3"
       ]
      }
     ],
     "prompt_number": 11
    },
    {
     "cell_type": "code",
     "collapsed": false,
     "input": [
      "foo([1,2,7,9]) # compiles a different version for Array{Int,1} arguments"
     ],
     "language": "python",
     "metadata": {},
     "outputs": [
      {
       "metadata": {},
       "output_type": "pyout",
       "prompt_number": 12,
       "text": [
        "4-element Array{Int64,1}:\n",
        "  2\n",
        "  3\n",
        "  8\n",
        " 10"
       ]
      }
     ],
     "prompt_number": 12
    }
   ],
   "metadata": {}
  }
 ]
}