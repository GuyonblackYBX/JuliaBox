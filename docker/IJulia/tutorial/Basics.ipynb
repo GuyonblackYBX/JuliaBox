{
 "metadata": {
  "kernelspec": {
   "codemirror_mode": {
    "name": "ipython",
    "version": 2
   },
   "display_name": "IPython (Python 2)",
   "language": "python",
   "name": "python2"
  },
  "language": "Julia",
  "name": "",
  "signature": "sha256:ce9c66417a9cbccbcceebb16cabf87d1b1f0252915d079c3ecba21e4cdc6f1b4"
 },
 "nbformat": 3,
 "nbformat_minor": 0,
 "worksheets": [
  {
   "cells": [
    {
     "cell_type": "heading",
     "level": 1,
     "metadata": {},
     "source": [
      "Julia Basics"
     ]
    },
    {
     "cell_type": "markdown",
     "metadata": {},
     "source": [
      "Julia is a dynamic language.  You don't need type declarations, and can change variable types dynamically and interactively.\n",
      "\n",
      "For working with simple numbers, arrays, and strings, its syntax is *superficially* similar to Matlab, Python, and other popular languages.\n",
      "\n",
      "In order to execute the \"In\" cells, select the cell and press Shift-Enter, or press the Play button above. To run the entire notebook, navigate to Cell and then click Run All."
     ]
    },
    {
     "cell_type": "code",
     "collapsed": false,
     "input": [
      "A = rand(10,300)"
     ],
     "language": "python",
     "metadata": {},
     "outputs": [
      {
       "metadata": {},
       "output_type": "pyout",
       "prompt_number": 1,
       "text": [
        "10x300 Array{Float64,2}:\n",
        " 0.612603  0.180781  0.299553  8.28846e-5  \u2026  0.402706   0.0176263  0.55532  \n",
        " 0.754053  0.283999  0.695553  0.129127       0.523263   0.627381   0.882566 \n",
        " 0.769994  0.521431  0.859874  0.839612       0.25192    0.34706    0.0654591\n",
        " 0.280002  0.573773  0.124054  0.420577       0.556035   0.357668   0.553549 \n",
        " 0.908987  0.102491  0.93979   0.809018       0.862077   0.0386737  0.303755 \n",
        " 0.851513  0.744847  0.772224  0.823613    \u2026  0.640902   0.955492   0.58056  \n",
        " 0.061213  0.174868  0.619263  0.788144       0.958926   0.8042     0.0057551\n",
        " 0.996646  0.503362  0.970951  0.296781       0.08442    0.753387   0.209301 \n",
        " 0.650824  0.299427  0.187932  0.96758        0.629735   0.124941   0.35485  \n",
        " 0.342264  0.217052  0.34212   0.495921       0.0959451  0.428525   0.0794645"
       ]
      }
     ],
     "prompt_number": 1
    },
    {
     "cell_type": "markdown",
     "metadata": {},
     "source": [
      "It has all of the usual built-in Matlab/Numpy-like linear-algebra and vector functions:"
     ]
    },
    {
     "cell_type": "code",
     "collapsed": false,
     "input": [
      "b = rand(10)\n",
      "x = A \\ b\n",
      "B = A' * A\n",
      "erf(eigvals(B)) - 2x.^2 + 4x - 6"
     ],
     "language": "python",
     "metadata": {},
     "outputs": [
      {
       "metadata": {},
       "output_type": "pyout",
       "prompt_number": 2,
       "text": [
        "300-element Array{Float64,1}:\n",
        " -5.99331\n",
        " -5.96398\n",
        " -5.96022\n",
        " -5.96506\n",
        " -5.98213\n",
        " -5.99655\n",
        " -5.98238\n",
        " -5.98213\n",
        " -5.93154\n",
        " -5.97005\n",
        " -5.97269\n",
        " -5.97308\n",
        " -5.9354 \n",
        "  \u22ee      \n",
        " -5.96845\n",
        " -5.99352\n",
        " -4.99281\n",
        " -4.95339\n",
        " -4.94527\n",
        " -4.9767 \n",
        " -5.00616\n",
        " -5.01051\n",
        " -5.01131\n",
        " -5.04615\n",
        " -5.03316\n",
        " -5.00371"
       ]
      }
     ],
     "prompt_number": 2
    },
    {
     "cell_type": "markdown",
     "metadata": {},
     "source": [
      "Complex numbers and arbitrary-precision arithmetic (via MPFR), of course."
     ]
    },
    {
     "cell_type": "code",
     "collapsed": false,
     "input": [
      "cos(big(3 + 4im))"
     ],
     "language": "python",
     "metadata": {},
     "outputs": [
      {
       "metadata": {},
       "output_type": "pyout",
       "prompt_number": 4,
       "text": [
        "-2.703494560307422464769480266827091348467753695567661661019265514673434246483996e+01 with 256 bits of precision - 3.851153334811777536563337123053124569704160846091637003157728595256494186490506e+00 with 256 bits of precisionim"
       ]
      }
     ],
     "prompt_number": 4
    },
    {
     "cell_type": "heading",
     "level": 2,
     "metadata": {},
     "source": [
      "Unicode"
     ]
    },
    {
     "cell_type": "markdown",
     "metadata": {},
     "source": [
      "All strings are UTF-8 encoded Unicode by default (UTF-16 and UTF-32 also supported):"
     ]
    },
    {
     "cell_type": "code",
     "collapsed": false,
     "input": [
      "matchall(r\"\\s[a-z]+\", \"\u03b1 is a Gr\u00eb\u00e9k letter\") # regex search of a Unicode string"
     ],
     "language": "python",
     "metadata": {},
     "outputs": [
      {
       "metadata": {},
       "output_type": "pyout",
       "prompt_number": 5,
       "text": [
        "3-element Array{SubString{UTF8String},1}:\n",
        " \" is\"    \n",
        " \" a\"     \n",
        " \" letter\""
       ]
      }
     ],
     "prompt_number": 5
    },
    {
     "cell_type": "markdown",
     "metadata": {},
     "source": [
      "Like Python 3, variable names can be Unicode, but Julia allows a somewhat wider range of codepoints in identifiers, which can be typed by LaTeX-like tab-completion *\\alpha[TAB]\\hat[TAB]\\_2[TAB]\\prime*."
     ]
    },
    {
     "cell_type": "code",
     "collapsed": false,
     "input": [
      "\u03b1\u0302\u2082\u2032 = 7\n",
      "\u0127 = 6.62606957e-34 / 2\u03c0\n",
      "\u1e8b = \u0127 * \u03b1\u0302\u2082\u2032"
     ],
     "language": "python",
     "metadata": {},
     "outputs": [
      {
       "metadata": {},
       "output_type": "pyout",
       "prompt_number": 6,
       "text": [
        "7.3820020773540256e-34"
       ]
      }
     ],
     "prompt_number": 6
    },
    {
     "cell_type": "markdown",
     "metadata": {},
     "source": [
      "Unlike Python 3, Unicode math operators are parsed as infix operators, which are available for user-defined meanings:"
     ]
    },
    {
     "cell_type": "code",
     "collapsed": false,
     "input": [
      "\u226a(x,y) = x < 0.1*y\n",
      "50 \u226a 100, 5 \u226a 100, 5 \u2264 50"
     ],
     "language": "python",
     "metadata": {},
     "outputs": [
      {
       "metadata": {},
       "output_type": "pyout",
       "prompt_number": 8,
       "text": [
        "(false,true,true)"
       ]
      }
     ],
     "prompt_number": 8
    },
    {
     "cell_type": "code",
     "collapsed": false,
     "input": [
      "const \u2297 = kron\n",
      "eye(2,2) \u2297 rand(2,2)"
     ],
     "language": "python",
     "metadata": {},
     "outputs": [
      {
       "metadata": {},
       "output_type": "pyout",
       "prompt_number": 9,
       "text": [
        "4x4 Array{Float64,2}:\n",
        " 0.556894  0.861108  0.0       0.0     \n",
        " 0.344389  0.960697  0.0       0.0     \n",
        " 0.0       0.0       0.556894  0.861108\n",
        " 0.0       0.0       0.344389  0.960697"
       ]
      }
     ],
     "prompt_number": 9
    },
    {
     "cell_type": "heading",
     "level": 2,
     "metadata": {},
     "source": [
      "Functions and JIT-compilation"
     ]
    },
    {
     "cell_type": "markdown",
     "metadata": {},
     "source": [
      "Functions can be defined in several ways, and *don't require type-declarations*."
     ]
    },
    {
     "cell_type": "code",
     "collapsed": false,
     "input": [
      "# verbose form:\n",
      "function foo(x)\n",
      "    return x + 1\n",
      "end\n",
      "\n",
      "# one-line form:\n",
      "foo(x) = x + 1\n",
      "\n",
      "# anonymous function\n",
      "x -> x + 1"
     ],
     "language": "python",
     "metadata": {},
     "outputs": [
      {
       "metadata": {},
       "output_type": "pyout",
       "prompt_number": 10,
       "text": [
        "(anonymous function)"
       ]
      }
     ],
     "prompt_number": 10
    },
    {
     "cell_type": "markdown",
     "metadata": {},
     "source": [
      "The *first time you call* a function with arguments of a particular type, Julia JIT-compiles that function *specialized for that type* with LLVM, which is then cached for subsequent calls for the *same types*."
     ]
    },
    {
     "cell_type": "code",
     "collapsed": false,
     "input": [
      "foo(3) # compiles foo for Int arguments"
     ],
     "language": "python",
     "metadata": {},
     "outputs": [
      {
       "metadata": {},
       "output_type": "pyout",
       "prompt_number": 11,
       "text": [
        "4"
       ]
      }
     ],
     "prompt_number": 11
    },
    {
     "cell_type": "code",
     "collapsed": false,
     "input": [
      "foo(7) # re-uses compiled foo(Int)"
     ],
     "language": "python",
     "metadata": {},
     "outputs": [
      {
       "metadata": {},
       "output_type": "pyout",
       "prompt_number": 12,
       "text": [
        "8"
       ]
      }
     ],
     "prompt_number": 12
    },
    {
     "cell_type": "code",
     "collapsed": false,
     "input": [
      "foo(7.3) # compiles a different version for Float64 arguments"
     ],
     "language": "python",
     "metadata": {},
     "outputs": [
      {
       "metadata": {},
       "output_type": "pyout",
       "prompt_number": 13,
       "text": [
        "8.3"
       ]
      }
     ],
     "prompt_number": 13
    },
    {
     "cell_type": "code",
     "collapsed": false,
     "input": [
      "foo([1,2,7,9]) # compiles a different version for Array{Int,1} arguments"
     ],
     "language": "python",
     "metadata": {},
     "outputs": [
      {
       "metadata": {},
       "output_type": "pyout",
       "prompt_number": 14,
       "text": [
        "4-element Array{Int64,1}:\n",
        "  2\n",
        "  3\n",
        "  8\n",
        " 10"
       ]
      }
     ],
     "prompt_number": 14
    }
   ],
   "metadata": {}
  }
 ]
}