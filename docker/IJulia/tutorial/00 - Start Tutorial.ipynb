{
 "metadata": {
  "kernelspec": {
   "codemirror_mode": {
    "name": "ipython",
    "version": 2
   },
   "display_name": "IPython (Python 2)",
   "language": "python",
   "name": "python2"
  },
  "language": "Julia",
  "name": "",
  "signature": "sha256:c2d5312377ecdd5a567b2435a1ddf70f381b27737f18f854dab41cf5468c1053"
 },
 "nbformat": 3,
 "nbformat_minor": 0,
 "worksheets": [
  {
   "cells": [
    {
     "cell_type": "heading",
     "level": 1,
     "metadata": {},
     "source": [
      "An IJulia Notebook"
     ]
    },
    {
     "cell_type": "markdown",
     "metadata": {},
     "source": [
      "This is an **IJulia notebook**. It can mix code, multimedia results, headings, documentation, equations like $\\sqrt{\\int x^2 dx}$, and even interactive widgets."
     ]
    },
    {
     "cell_type": "markdown",
     "metadata": {},
     "source": [
      "# Running Julia code\n",
      "\n",
      "In order to run Julia code, select the cell below and press Shift-Enter. "
     ]
    },
    {
     "cell_type": "code",
     "collapsed": false,
     "input": [
      "1+1       # Try changing the numbers and press Shift-Enter again."
     ],
     "language": "python",
     "metadata": {},
     "outputs": [
      {
       "metadata": {},
       "output_type": "pyout",
       "prompt_number": 7,
       "text": [
        "2"
       ]
      }
     ],
     "prompt_number": 7
    },
    {
     "cell_type": "code",
     "collapsed": false,
     "input": [
      "rand()    # Press Shift-Enter repeatedly to generate new random numbers."
     ],
     "language": "python",
     "metadata": {},
     "outputs": [
      {
       "metadata": {},
       "output_type": "pyout",
       "prompt_number": 8,
       "text": [
        "0.5659995687505539"
       ]
      }
     ],
     "prompt_number": 8
    },
    {
     "cell_type": "heading",
     "level": 2,
     "metadata": {},
     "source": [
      "Julia and IJulia examples:"
     ]
    },
    {
     "cell_type": "markdown",
     "metadata": {},
     "source": [
      "* [Julia Basics](Basics.ipynb)\n",
      "* [Plotting in Julia](Plotting in Julia.ipynb)\n",
      "* [Multiple Dispatch](Multiple Dispatch.ipynb)\n",
      "* [Calling C and Python](Calling C and Python.ipynb)\n",
      "* [Interactive Widgets](Interactive Widgets.ipynb)\n",
      "* [Metaprogramming](Metaprogramming.ipynb)"
     ]
    },
    {
     "cell_type": "markdown",
     "metadata": {},
     "source": [
      "These examples have been taken from [Steve Johnson's talk at EuroSciPy 2014](https://github.com/stevengj/Julia-EuroSciPy14).\n",
      "\n",
      "Go ahead and modify the tutorial notebooks to try out different examples. The entire tutorial folder gets refreshed with every login."
     ]
    }
   ],
   "metadata": {}
  }
 ]
}